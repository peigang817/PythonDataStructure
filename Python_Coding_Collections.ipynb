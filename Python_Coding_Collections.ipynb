{
 "cells": [
  {
   "cell_type": "markdown",
   "metadata": {},
   "source": [
    "# Python basics\n",
    "https://github.com/gto76/python-cheatsheet#generator"
   ]
  },
  {
   "cell_type": "code",
   "execution_count": 6,
   "metadata": {},
   "outputs": [
    {
     "name": "stdout",
     "output_type": "stream",
     "text": [
      "[1, 2, 3]\n",
      "{1, 2, 3}\n",
      "{1: 2}\n",
      "(1, 2)\n"
     ]
    }
   ],
   "source": [
    "# list\n",
    "a = [1,2,3]\n",
    "print(a)\n",
    "\n",
    "# set\n",
    "b = set(a)\n",
    "print(b)\n",
    "\n",
    "# dictionary\n",
    "c = {1:2}\n",
    "print(c)\n",
    "\n",
    "# tuple\n",
    "# tuple is immutable\n",
    "d = (1,2)\n",
    "print(d)\n",
    "\n",
    "# String\n",
    "# string is immutable\n",
    "a = 'abcde'\n",
    "print(a[1:3])"
   ]
  },
  {
   "cell_type": "markdown",
   "metadata": {},
   "source": [
    "# 2D Array"
   ]
  },
  {
   "cell_type": "code",
   "execution_count": 26,
   "metadata": {},
   "outputs": [
    {
     "name": "stdout",
     "output_type": "stream",
     "text": [
      "[[0, 1, 2, 3, 4, 5], [0, 1, 2, 3, 4, 5], [0, 1, 2, 3, 4, 5], [0, 1, 2, 3, 4, 5], [0, 1, 2, 3, 4, 5], [0, 1, 2, 3, 4, 5]]\n",
      "3\n"
     ]
    }
   ],
   "source": [
    "a = [[i for i in range(6)] for j in range(6)]\n",
    "print(a)\n",
    "print(a[1][3])"
   ]
  },
  {
   "cell_type": "markdown",
   "metadata": {},
   "source": [
    "# Stack"
   ]
  },
  {
   "cell_type": "code",
   "execution_count": 8,
   "metadata": {},
   "outputs": [
    {
     "name": "stdout",
     "output_type": "stream",
     "text": [
      "[1, 2, 3, 5]\n",
      "5\n",
      "[1, 2, 3]\n"
     ]
    }
   ],
   "source": [
    "a = [1,2,3]\n",
    "# push\n",
    "a.append(5)\n",
    "print(a)\n",
    "# pop\n",
    "print(a.pop())\n",
    "print(a)"
   ]
  },
  {
   "cell_type": "markdown",
   "metadata": {},
   "source": [
    "# Queue"
   ]
  },
  {
   "cell_type": "code",
   "execution_count": 9,
   "metadata": {},
   "outputs": [
    {
     "name": "stdout",
     "output_type": "stream",
     "text": [
      "[1, 2, 3, 5]\n",
      "1\n",
      "[2, 3, 5]\n"
     ]
    }
   ],
   "source": [
    "a = [1,2,3]\n",
    "# enqueue\n",
    "a.append(5)\n",
    "print(a)\n",
    "# dequeue\n",
    "print(a.pop(0))\n",
    "print(a)"
   ]
  },
  {
   "cell_type": "markdown",
   "metadata": {},
   "source": [
    "# Binary Tree"
   ]
  },
  {
   "cell_type": "code",
   "execution_count": 11,
   "metadata": {},
   "outputs": [
    {
     "name": "stdout",
     "output_type": "stream",
     "text": [
      "3\n",
      "1\n",
      "0\n",
      "2\n",
      "\n",
      "0\n",
      "1\n",
      "2\n",
      "3\n"
     ]
    }
   ],
   "source": [
    "class Node(object):\n",
    "    def __init__(self, val, left_child=None, right_child=None):\n",
    "        self.val = val\n",
    "        self.left_child = left_child\n",
    "        self.right_child = right_child\n",
    "        self.dirty = False\n",
    "        \n",
    "        \n",
    "def tree_depth_first_search(node):\n",
    "    if node is None:\n",
    "        return\n",
    "    \n",
    "    tree_depth_first_search(node.left_child)\n",
    "    print(node.val)\n",
    "    tree_depth_first_search(node.right_child)\n",
    "\n",
    "def tree_breadth_first_search(root_node):\n",
    "    # use queue to perform breadth first search\n",
    "    if root_node is None:\n",
    "        return\n",
    "    \n",
    "    nodes_queue = [root_node]\n",
    "    while(len(nodes_queue) > 0):\n",
    "        node = nodes_queue.pop(0)\n",
    "        print(node.val)\n",
    "\n",
    "        if node.left_child is not None:\n",
    "            nodes_queue.append(node.left_child)\n",
    "        if node.right_child is not None:\n",
    "            nodes_queue.append(node.right_child)\n",
    "    \n",
    "    \n",
    "node3 = Node(3)\n",
    "node1 = Node(1, left_child=node3)\n",
    "node2 = Node(2)\n",
    "node0 = Node(0, node1, node2)\n",
    "tree_depth_first_search(node0)\n",
    "print()\n",
    "tree_breadth_first_search(node0)\n",
    "\n",
    "    "
   ]
  },
  {
   "cell_type": "markdown",
   "metadata": {},
   "source": [
    "# Graph"
   ]
  },
  {
   "cell_type": "code",
   "execution_count": 18,
   "metadata": {},
   "outputs": [
    {
     "name": "stdout",
     "output_type": "stream",
     "text": [
      "2\n",
      "3\n",
      "1\n",
      "1\n"
     ]
    }
   ],
   "source": [
    "class Vertex(object):\n",
    "    def __init__(self, vertex_id):\n",
    "        self.vertex_id = vertex_id\n",
    "        self.dirty = False\n",
    "        self.edges = {}\n",
    "    \n",
    "    def add_edge(self, to_vertex_id, weight=None):\n",
    "        self.edges[to_vertex_id] = weight\n",
    "\n",
    "def graph_depth_first_search(start_vertex, vertex_dict):\n",
    "    if start_vertex is None:\n",
    "        return\n",
    "    \n",
    "    vertex_stack = [start_vertex]\n",
    "    \n",
    "    while(len(vertex_stack) > 0):\n",
    "        vertex = vertex_stack.pop()\n",
    "        print(vertex.vertex_id)\n",
    "        vertex.dirty = True\n",
    "        \n",
    "        for v_id in vertex.edges.keys():\n",
    "            if not vertex_dict[v_id].dirty:\n",
    "                vertex_stack.append(vertex_dict[v_id])\n",
    "        \n",
    "v1 = Vertex(1)\n",
    "v2 = Vertex(2)\n",
    "v3 = Vertex(3)\n",
    "v1.add_edge(2)\n",
    "v2.add_edge(3)\n",
    "v3.add_edge(1)\n",
    "\n",
    "vertex_dict = {1:v1, 2:v2, 3:v3}\n",
    "graph_depth_first_search(v2, vertex_dict)\n",
    "print(v1.v)"
   ]
  },
  {
   "cell_type": "markdown",
   "metadata": {},
   "source": [
    "# Python Bitwise Manipulation"
   ]
  },
  {
   "cell_type": "code",
   "execution_count": null,
   "metadata": {},
   "outputs": [],
   "source": [
    "& Binary AND\n",
    "| Binary OR\n",
    "^ Binary XOR\n",
    "~ Binary Ones Complement\n",
    "<< Binary Left Shift\n",
    ">> Binary Right Shift\n",
    "\n",
    "bin(x) - convert to binary string"
   ]
  },
  {
   "cell_type": "code",
   "execution_count": 4,
   "metadata": {},
   "outputs": [
    {
     "name": "stdout",
     "output_type": "stream",
     "text": [
      "0b11110001001000000\n",
      "0b10010001111000000000000000\n"
     ]
    }
   ],
   "source": [
    "def get_bit_value(n, k):\n",
    "    return ((1 << k) & n) >> k\n",
    "\n",
    "def set_bit_value(n, k, v):\n",
    "    if v == 1:\n",
    "        return (1 << k) | n\n",
    "    else:\n",
    "        return (~(1 << k)) & n\n",
    "\n",
    "def bitwise_reverse(n):\n",
    "    for k in range(0, 16):\n",
    "        v_left = get_bit_value(n, 31 - k)\n",
    "        v_right = get_bit_value(n, k)\n",
    "        n = set_bit_value(n, k, v_left)\n",
    "        n = set_bit_value(n, 31-k, v_right)\n",
    "    \n",
    "    return n\n",
    "\n",
    "x = 123456\n",
    "print(bin(x))\n",
    "print(bin(bitwise_reverse(x)))"
   ]
  },
  {
   "cell_type": "markdown",
   "metadata": {},
   "source": [
    "# Main"
   ]
  },
  {
   "cell_type": "code",
   "execution_count": null,
   "metadata": {},
   "outputs": [],
   "source": [
    "if __name__ == '__main__':     # Runs main() if file wasn't imported.\n",
    "    main()"
   ]
  },
  {
   "cell_type": "markdown",
   "metadata": {},
   "source": [
    "# Enumerate"
   ]
  },
  {
   "cell_type": "code",
   "execution_count": 28,
   "metadata": {},
   "outputs": [
    {
     "name": "stdout",
     "output_type": "stream",
     "text": [
      "0 11\n",
      "1 12\n",
      "2 13\n"
     ]
    }
   ],
   "source": [
    "a = [11,12,13]\n",
    "for index, el in enumerate(a):\n",
    "    print(index, el)\n"
   ]
  },
  {
   "cell_type": "markdown",
   "metadata": {},
   "source": [
    "# Sort"
   ]
  },
  {
   "cell_type": "code",
   "execution_count": 32,
   "metadata": {},
   "outputs": [
    {
     "name": "stdout",
     "output_type": "stream",
     "text": [
      "[2, 0, 3, 1]\n",
      "[0, 1, 2, 3]\n",
      "[0, 1, 2, 3]\n"
     ]
    }
   ],
   "source": [
    "a = [2, 0 , 3, 1]\n",
    "b = sorted(a)\n",
    "print(a)\n",
    "print(b)\n",
    "a.sort()\n",
    "print(a)"
   ]
  },
  {
   "cell_type": "code",
   "execution_count": null,
   "metadata": {},
   "outputs": [],
   "source": []
  }
 ],
 "metadata": {
  "kernelspec": {
   "display_name": "Python 3",
   "language": "python",
   "name": "python3"
  },
  "language_info": {
   "codemirror_mode": {
    "name": "ipython",
    "version": 3
   },
   "file_extension": ".py",
   "mimetype": "text/x-python",
   "name": "python",
   "nbconvert_exporter": "python",
   "pygments_lexer": "ipython3",
   "version": "3.7.6"
  }
 },
 "nbformat": 4,
 "nbformat_minor": 2
}
